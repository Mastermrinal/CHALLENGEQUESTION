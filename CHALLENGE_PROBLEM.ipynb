{
  "nbformat": 4,
  "nbformat_minor": 0,
  "metadata": {
    "colab": {
      "provenance": [],
      "authorship_tag": "ABX9TyMHJzDHxIb9DZKUZdYvIJAb",
      "include_colab_link": true
    },
    "kernelspec": {
      "name": "python3",
      "display_name": "Python 3"
    },
    "language_info": {
      "name": "python"
    }
  },
  "cells": [
    {
      "cell_type": "markdown",
      "metadata": {
        "id": "view-in-github",
        "colab_type": "text"
      },
      "source": [
        "<a href=\"https://colab.research.google.com/github/Mastermrinal/CHALLENGEQUESTION/blob/main/CHALLENGE_PROBLEM.ipynb\" target=\"_parent\"><img src=\"https://colab.research.google.com/assets/colab-badge.svg\" alt=\"Open In Colab\"/></a>"
      ]
    },
    {
      "cell_type": "code",
      "execution_count": 1,
      "metadata": {
        "id": "Btwc2MX_GVNb"
      },
      "outputs": [],
      "source": [
        "##challenge question \n",
        "##Write a python program to sort the list of heterogeneous data.\n",
        "##e.g.\n",
        "##L = [\"Ram\", 1, \"Shyam\", 2, \"Aman\", 3]\n",
        "##print(L)\n",
        "##L.sort()\n",
        "##print(L)\n",
        "##problem with this code is that it is unable to seperatly sort string and integer values \n",
        "\n"
      ]
    },
    {
      "cell_type": "code",
      "source": [
        "##sol \n",
        "def sort_heterogeneous_data(data_list):\n",
        "    return sorted(data_list, key=lambda x: str(x))\n",
        "\n",
        "# Example usage\n",
        "L = ['Ram',1,'Shyam',2,'Aman',3]\n",
        "sorted_data = sort_heterogeneous_data(L)\n",
        "print(sorted_data)"
      ],
      "metadata": {
        "colab": {
          "base_uri": "https://localhost:8080/"
        },
        "id": "mM4yqmrOGwlK",
        "outputId": "9b634d33-2378-4dac-c96a-2033f4ed87e9"
      },
      "execution_count": 3,
      "outputs": [
        {
          "output_type": "stream",
          "name": "stdout",
          "text": [
            "[1, 2, 3, 'Aman', 'Ram', 'Shyam']\n"
          ]
        }
      ]
    }
  ]
}